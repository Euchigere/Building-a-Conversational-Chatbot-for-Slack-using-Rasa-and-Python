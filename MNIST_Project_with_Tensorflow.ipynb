{
  "nbformat": 4,
  "nbformat_minor": 0,
  "metadata": {
    "colab": {
      "name": "MNIST_Project_with_Tensorflow.ipynb",
      "provenance": [],
      "collapsed_sections": [],
      "include_colab_link": true
    },
    "kernelspec": {
      "name": "python3",
      "display_name": "Python 3"
    }
  },
  "cells": [
    {
      "cell_type": "markdown",
      "metadata": {
        "id": "view-in-github",
        "colab_type": "text"
      },
      "source": [
        "<a href=\"https://colab.research.google.com/github/Euchigere/Building-a-Conversational-Chatbot-for-Slack-using-Rasa-and-Python/blob/master/MNIST_Project_with_Tensorflow.ipynb\" target=\"_parent\"><img src=\"https://colab.research.google.com/assets/colab-badge.svg\" alt=\"Open In Colab\"/></a>"
      ]
    },
    {
      "cell_type": "code",
      "metadata": {
        "id": "l6-tRXyZgkp3",
        "colab_type": "code",
        "colab": {}
      },
      "source": [
        "from __future__ import absolute_import, division, print_function, unicode_literals"
      ],
      "execution_count": 0,
      "outputs": []
    },
    {
      "cell_type": "code",
      "metadata": {
        "id": "Z8tp7X4qducu",
        "colab_type": "code",
        "outputId": "38c3e5d4-e931-49d3-aeac-6dce2f127a79",
        "colab": {
          "base_uri": "https://localhost:8080/",
          "height": 34
        }
      },
      "source": [
        "try:\n",
        "  # %tensorflow_version only exists in colab\n",
        "  %tensorflow_version 2.x\n",
        "except Exception:\n",
        "  pass\n",
        "import tensorflow as tf\n",
        "\n",
        "# MNIST data set\n",
        "mnist = tf.keras.datasets.mnist\n",
        "\n",
        "# import python libraries\n",
        "import matplotlib.pyplot as plt\n",
        "import numpy as np\n",
        "import random as ran"
      ],
      "execution_count": 2,
      "outputs": [
        {
          "output_type": "stream",
          "text": [
            "TensorFlow 2.x selected.\n"
          ],
          "name": "stdout"
        }
      ]
    },
    {
      "cell_type": "code",
      "metadata": {
        "id": "7eqc42coe9sO",
        "colab_type": "code",
        "outputId": "9355da3c-0030-4a97-f72a-8363ab19f8fc",
        "colab": {
          "base_uri": "https://localhost:8080/",
          "height": 71
        }
      },
      "source": [
        "# loading mnist data\n",
        "(x_train, y_train), (x_test, y_test) = mnist.load_data()\n",
        "\n",
        "# Normalizing inputs\n",
        "x_train, x_test = x_train / 255.0, x_test / 255.0"
      ],
      "execution_count": 3,
      "outputs": [
        {
          "output_type": "stream",
          "text": [
            "Downloading data from https://storage.googleapis.com/tensorflow/tf-keras-datasets/mnist.npz\n",
            "11493376/11490434 [==============================] - 0s 0us/step\n"
          ],
          "name": "stdout"
        }
      ]
    },
    {
      "cell_type": "code",
      "metadata": {
        "id": "wVnagJLXoN-1",
        "colab_type": "code",
        "outputId": "f7144161-ef08-4542-9bf8-c750930cb2c8",
        "colab": {
          "base_uri": "https://localhost:8080/",
          "height": 119
        }
      },
      "source": [
        "print('The total number of data sets: {}'.format(len(x_train) + len(x_test)))\n",
        "print('The number of train data sets: {}'.format(len(x_train)))\n",
        "print('The number of test data sets: {}'.format(len(x_test)))\n",
        "\n",
        "print('\\nThe shape of x_train: {}'.format(x_train.shape))\n",
        "print('The shape of y_train: {}'.format(y_train.shape))"
      ],
      "execution_count": 4,
      "outputs": [
        {
          "output_type": "stream",
          "text": [
            "The total number of data sets: 70000\n",
            "The number of train data sets: 60000\n",
            "The number of test data sets: 10000\n",
            "\n",
            "The shape of x_train: (60000, 28, 28)\n",
            "The shape of y_train: (60000,)\n"
          ],
          "name": "stdout"
        }
      ]
    },
    {
      "cell_type": "code",
      "metadata": {
        "id": "mSCwPti0pZ6X",
        "colab_type": "code",
        "colab": {}
      },
      "source": [
        "# function to display random digit with label\n",
        "def display_digit():\n",
        "  num = ran.randint(0, x_train.shape[0])\n",
        "  print(y_train[num])\n",
        "  label = y_train[num]\n",
        "  digit = x_train[num]\n",
        "  plt.title('Example: {} Label: {}'.format(num, label))\n",
        "  plt.imshow(digit, cmap=plt.get_cmap('gray_r'))\n",
        "  plt.show()"
      ],
      "execution_count": 0,
      "outputs": []
    },
    {
      "cell_type": "code",
      "metadata": {
        "id": "n6qPy_Zyseo3",
        "colab_type": "code",
        "outputId": "fa50c44b-6a07-449c-d9c5-1ccbeaf190b1",
        "colab": {
          "base_uri": "https://localhost:8080/",
          "height": 298
        }
      },
      "source": [
        "# Display random digits\n",
        "display_digit()"
      ],
      "execution_count": 6,
      "outputs": [
        {
          "output_type": "stream",
          "text": [
            "2\n"
          ],
          "name": "stdout"
        },
        {
          "output_type": "display_data",
          "data": {
            "image/png": "[encoded data removed]",
            "text/plain": [
              "<Figure size 432x288 with 1 Axes>"
            ]
          },
          "metadata": {
            "tags": []
          }
        }
      ]
    },
    {
      "cell_type": "code",
      "metadata": {
        "id": "beql1dc2iObv",
        "colab_type": "code",
        "colab": {}
      },
      "source": [
        "#Building model\n",
        "model = tf.keras.models.Sequential([\n",
        "    tf.keras.layers.Flatten(input_shape=(28, 28)),\n",
        "    tf.keras.layers.Dense(128, activation='relu'),\n",
        "    tf.keras.layers.Dropout(0.2),\n",
        "    tf.keras.layers.Dense(10, activation='softmax')\n",
        "])\n",
        "\n",
        "model.compile(optimizer='adam',\n",
        "             loss='sparse_categorical_crossentropy',\n",
        "             metrics=['accuracy'])"
      ],
      "execution_count": 0,
      "outputs": []
    },
    {
      "cell_type": "code",
      "metadata": {
        "id": "mxaSQ87ZmO6u",
        "colab_type": "code",
        "outputId": "89c5a7ff-fd19-408d-a722-3c4c58fd3016",
        "colab": {
          "base_uri": "https://localhost:8080/",
          "height": 289
        }
      },
      "source": [
        "model.summary()"
      ],
      "execution_count": 59,
      "outputs": [
        {
          "output_type": "stream",
          "text": [
            "Model: \"sequential_2\"\n",
            "_________________________________________________________________\n",
            "Layer (type)                 Output Shape              Param #   \n",
            "=================================================================\n",
            "flatten_2 (Flatten)          (None, 784)               0         \n",
            "_________________________________________________________________\n",
            "dense_4 (Dense)              (None, 128)               100480    \n",
            "_________________________________________________________________\n",
            "dropout_1 (Dropout)          (None, 128)               0         \n",
            "_________________________________________________________________\n",
            "dense_5 (Dense)              (None, 10)                1290      \n",
            "=================================================================\n",
            "Total params: 101,770\n",
            "Trainable params: 101,770\n",
            "Non-trainable params: 0\n",
            "_________________________________________________________________\n"
          ],
          "name": "stdout"
        }
      ]
    },
    {
      "cell_type": "code",
      "metadata": {
        "id": "faL4xslSg6at",
        "colab_type": "code",
        "outputId": "9de61129-f0a7-467d-854a-73e6c4e49297",
        "colab": {
          "base_uri": "https://localhost:8080/",
          "height": 394
        }
      },
      "source": [
        "history = model.fit(x_train, y_train, batch_size=500, epochs=10,\n",
        "                    validation_data=(x_test, y_test), verbose=2)"
      ],
      "execution_count": 64,
      "outputs": [
        {
          "output_type": "stream",
          "text": [
            "Train on 60000 samples, validate on 10000 samples\n",
            "Epoch 1/10\n",
            "60000/60000 - 1s - loss: 0.0911 - accuracy: 0.9737 - val_loss: 0.0866 - val_accuracy: 0.9739\n",
            "Epoch 2/10\n",
            "60000/60000 - 1s - loss: 0.0844 - accuracy: 0.9751 - val_loss: 0.0819 - val_accuracy: 0.9755\n",
            "Epoch 3/10\n",
            "60000/60000 - 1s - loss: 0.0789 - accuracy: 0.9769 - val_loss: 0.0800 - val_accuracy: 0.9756\n",
            "Epoch 4/10\n",
            "60000/60000 - 1s - loss: 0.0739 - accuracy: 0.9779 - val_loss: 0.0762 - val_accuracy: 0.9758\n",
            "Epoch 5/10\n",
            "60000/60000 - 1s - loss: 0.0695 - accuracy: 0.9795 - val_loss: 0.0763 - val_accuracy: 0.9766\n",
            "Epoch 6/10\n",
            "60000/60000 - 1s - loss: 0.0670 - accuracy: 0.9795 - val_loss: 0.0738 - val_accuracy: 0.9777\n",
            "Epoch 7/10\n",
            "60000/60000 - 1s - loss: 0.0613 - accuracy: 0.9819 - val_loss: 0.0722 - val_accuracy: 0.9780\n",
            "Epoch 8/10\n",
            "60000/60000 - 1s - loss: 0.0586 - accuracy: 0.9824 - val_loss: 0.0700 - val_accuracy: 0.9784\n",
            "Epoch 9/10\n",
            "60000/60000 - 1s - loss: 0.0564 - accuracy: 0.9834 - val_loss: 0.0704 - val_accuracy: 0.9792\n",
            "Epoch 10/10\n",
            "60000/60000 - 1s - loss: 0.0518 - accuracy: 0.9845 - val_loss: 0.0687 - val_accuracy: 0.9782\n"
          ],
          "name": "stdout"
        }
      ]
    },
    {
      "cell_type": "code",
      "metadata": {
        "id": "O-buKB0khcH5",
        "colab_type": "code",
        "outputId": "719f4f81-f5fe-4f96-871b-cf6e0fdb7e51",
        "colab": {
          "base_uri": "https://localhost:8080/",
          "height": 390
        }
      },
      "source": [
        "# visualise training results\n",
        "acc = history.history['accuracy']\n",
        "val_acc= history.history['val_accuracy']\n",
        "\n",
        "loss = history.history['loss']\n",
        "val_loss = history.history['val_loss']\n",
        "\n",
        "epochs_range = range(10)\n",
        "\n",
        "plt.figure(figsize=(6, 6))\n",
        "plt.subplot(1, 2, 1)\n",
        "plt.plot(epochs_range, acc, label='Training Accuracy')\n",
        "plt.plot(epochs_range, val_acc, label='Validation Accuracy')\n",
        "plt.legend(loc='lower right')\n",
        "plt.title('Training and Validation Accuracy')\n",
        "\n",
        "plt.subplot(1, 2, 2)\n",
        "plt.plot(epochs_range, loss, label='Training Loss')\n",
        "plt.plot(epochs_range, val_loss, label='Validation Loss')\n",
        "plt.legend(loc='upper right')\n",
        "plt.title('Training and Validation Loss')\n",
        "plt.show()"
      ],
      "execution_count": 61,
      "outputs": [
        {
          "output_type": "display_data",
          "data": {
            "image/png": "[encoded data removed]",
            "text/plain": [
              "<Figure size 432x432 with 2 Axes>"
            ]
          },
          "metadata": {
            "tags": []
          }
        }
      ]
    },
    {
      "cell_type": "code",
      "metadata": {
        "id": "az3IWD-6m8fM",
        "colab_type": "code",
        "colab": {}
      },
      "source": [
        "import seaborn as sns\n",
        "from sklearn.metrics import confusion_matrix"
      ],
      "execution_count": 0,
      "outputs": []
    },
    {
      "cell_type": "code",
      "metadata": {
        "id": "xXMXTdC6Ytef",
        "colab_type": "code",
        "colab": {
          "base_uri": "https://localhost:8080/",
          "height": 139
        },
        "outputId": "be4208fc-f7a2-47b1-e33f-47914b3b1d02"
      },
      "source": [
        "#extracticting predicted labels\n",
        "logits = model(x_test)\n",
        "prediction = tf.argmax(logits, axis=1, output_type=tf.int32)\n",
        "label_pred = prediction.numpy()\n",
        "real_label = y_test"
      ],
      "execution_count": 62,
      "outputs": [
        {
          "output_type": "stream",
          "text": [
            "WARNING:tensorflow:Layer flatten_2 is casting an input tensor from dtype float64 to the layer's dtype of float32, which is new behavior in TensorFlow 2.  The layer has dtype float32 because it's dtype defaults to floatx.\n",
            "\n",
            "If you intended to run this layer in float32, you can safely ignore this warning. If in doubt, this warning is likely only an issue if you are porting a TensorFlow 1.X model to TensorFlow 2.\n",
            "\n",
            "To change all layers to have dtype float64 by default, call `tf.keras.backend.set_floatx('float64')`. To change just this layer, pass dtype='float64' to the layer constructor. If you are the author of this layer, you can disable autocasting by passing autocast=False to the base Layer constructor.\n",
            "\n"
          ],
          "name": "stdout"
        }
      ]
    },
    {
      "cell_type": "code",
      "metadata": {
        "id": "xUE7Du77ciZk",
        "colab_type": "code",
        "colab": {
          "base_uri": "https://localhost:8080/",
          "height": 296
        },
        "outputId": "2f4b510a-30e4-4f9b-d1c0-058159efc326"
      },
      "source": [
        "#plotting confusion matrix\n",
        "mat = confusion_matrix(real_label, label_pred)\n",
        "sns.heatmap(mat.T, annot=True, fmt='d', cbar=False,)\n",
        "            # xticklabels=np.arange(10), yticklabels=np.arange(10))\n",
        "plt.xlabel('True Label')\n",
        "plt.ylabel('Predicted Label')"
      ],
      "execution_count": 69,
      "outputs": [
        {
          "output_type": "execute_result",
          "data": {
            "text/plain": [
              "Text(33.0, 0.5, 'Predicted Label')"
            ]
          },
          "metadata": {
            "tags": []
          },
          "execution_count": 69
        },
        {
          "output_type": "display_data",
          "data": {
            "image/png": "[encoded data removed]",
            "text/plain": [
              "<Figure size 432x288 with 1 Axes>"
            ]
          },
          "metadata": {
            "tags": []
          }
        }
      ]
    },
    {
      "cell_type": "code",
      "metadata": {
        "id": "pwemz8eV12UG",
        "colab_type": "code",
        "colab": {
          "base_uri": "https://localhost:8080/",
          "height": 207
        },
        "outputId": "675bd7c5-f8c8-4066-de69-f7bfb4a563db"
      },
      "source": [
        "mat.T"
      ],
      "execution_count": 73,
      "outputs": [
        {
          "output_type": "execute_result",
          "data": {
            "text/plain": [
              "array([[ 965,    0,    3,    0,    1,    2,    7,    2,    4,    3],\n",
              "       [   0, 1125,    1,    0,    0,    0,    3,    8,    1,    5],\n",
              "       [   2,    4,  999,    8,    3,    0,    1,    8,    3,    1],\n",
              "       [   1,    0,    6,  982,    0,   13,    1,    1,    7,   11],\n",
              "       [   0,    0,    4,    0,  963,    1,    3,    0,    7,   13],\n",
              "       [   4,    1,    0,    5,    0,  862,    7,    0,    4,    3],\n",
              "       [   5,    1,    3,    0,    5,    7,  934,    0,    4,    1],\n",
              "       [   2,    1,    8,   10,    2,    2,    0, 1002,    8,   12],\n",
              "       [   1,    3,    8,    5,    1,    4,    2,    2,  933,    2],\n",
              "       [   0,    0,    0,    0,    7,    1,    0,    5,    3,  958]])"
            ]
          },
          "metadata": {
            "tags": []
          },
          "execution_count": 73
        }
      ]
    },
    {
      "cell_type": "code",
      "metadata": {
        "id": "YAVej49gajf1",
        "colab_type": "code",
        "colab": {}
      },
      "source": [
        "#Trying out example in class\n",
        "import pandas as pd\n",
        "\n",
        "sample_data = {'x1': (3, 5, 10),\n",
        "               'x2': (5, 1, 2),\n",
        "               'y': (75, 82, 93)}"
      ],
      "execution_count": 0,
      "outputs": []
    },
    {
      "cell_type": "code",
      "metadata": {
        "id": "UF2JmMRnbJyM",
        "colab_type": "code",
        "colab": {}
      },
      "source": [
        "df = pd.DataFrame(sample_data)"
      ],
      "execution_count": 0,
      "outputs": []
    },
    {
      "cell_type": "code",
      "metadata": {
        "id": "9zvhC97sbVoT",
        "colab_type": "code",
        "outputId": "74ab2254-70e6-4074-df60-37007f027c7d",
        "colab": {
          "base_uri": "https://localhost:8080/",
          "height": 138
        }
      },
      "source": [
        "df"
      ],
      "execution_count": 0,
      "outputs": [
        {
          "output_type": "execute_result",
          "data": {
            "text/html": [
              "<div>\n",
              "<style scoped>\n",
              "    .dataframe tbody tr th:only-of-type {\n",
              "        vertical-align: middle;\n",
              "    }\n",
              "\n",
              "    .dataframe tbody tr th {\n",
              "        vertical-align: top;\n",
              "    }\n",
              "\n",
              "    .dataframe thead th {\n",
              "        text-align: right;\n",
              "    }\n",
              "</style>\n",
              "<table border=\"1\" class=\"dataframe\">\n",
              "  <thead>\n",
              "    <tr style=\"text-align: right;\">\n",
              "      <th></th>\n",
              "      <th>x1</th>\n",
              "      <th>x2</th>\n",
              "      <th>y</th>\n",
              "    </tr>\n",
              "  </thead>\n",
              "  <tbody>\n",
              "    <tr>\n",
              "      <th>0</th>\n",
              "      <td>3</td>\n",
              "      <td>5</td>\n",
              "      <td>75</td>\n",
              "    </tr>\n",
              "    <tr>\n",
              "      <th>1</th>\n",
              "      <td>5</td>\n",
              "      <td>1</td>\n",
              "      <td>82</td>\n",
              "    </tr>\n",
              "    <tr>\n",
              "      <th>2</th>\n",
              "      <td>10</td>\n",
              "      <td>2</td>\n",
              "      <td>93</td>\n",
              "    </tr>\n",
              "  </tbody>\n",
              "</table>\n",
              "</div>"
            ],
            "text/plain": [
              "   x1  x2   y\n",
              "0   3   5  75\n",
              "1   5   1  82\n",
              "2  10   2  93"
            ]
          },
          "metadata": {
            "tags": []
          },
          "execution_count": 16
        }
      ]
    },
    {
      "cell_type": "code",
      "metadata": {
        "id": "phUaXq7Iin5O",
        "colab_type": "code",
        "colab": {}
      },
      "source": [
        "X = df.loc[:, ['x1', 'x2']].values\n",
        "y = df.loc[:, 'y'].values"
      ],
      "execution_count": 0,
      "outputs": []
    },
    {
      "cell_type": "code",
      "metadata": {
        "id": "zFEaoYkFi3Hj",
        "colab_type": "code",
        "outputId": "9b4e9cbb-dd69-46f4-f521-79cb98ffbabb",
        "colab": {
          "base_uri": "https://localhost:8080/",
          "height": 145
        }
      },
      "source": [
        "print(X, '\\nThe shape of X is: {}\\n'.format(X.shape))\n",
        "print(y, '\\nThe shape of y is: {}'.format(y.shape))"
      ],
      "execution_count": 0,
      "outputs": [
        {
          "output_type": "stream",
          "text": [
            "[[ 3  5]\n",
            " [ 5  1]\n",
            " [10  2]] \n",
            "The shape of X is: (3, 2)\n",
            "\n",
            "[75 82 93] \n",
            "The shape of y is: (3,)\n"
          ],
          "name": "stdout"
        }
      ]
    },
    {
      "cell_type": "code",
      "metadata": {
        "id": "dhlY_EZjbr8P",
        "colab_type": "code",
        "colab": {}
      },
      "source": [
        "#Building model\n",
        "sample_model = tf.keras.models.Sequential([\n",
        "    tf.keras.layers.Dense(3, kernel_initializer='normal', input_dim=X.shape[1], activation='relu'),\n",
        "    tf.keras.layers.Dense(1, kernel_initializer='normal', activation='linear')\n",
        "])\n",
        "\n",
        "sample_model.compile(optimizer='adam',\n",
        "             loss='mean_absolute_error',\n",
        "             metrics=['mean_absolute_error'])"
      ],
      "execution_count": 0,
      "outputs": []
    },
    {
      "cell_type": "code",
      "metadata": {
        "id": "zcBPgdR7mFLO",
        "colab_type": "code",
        "outputId": "4311a149-547f-4083-ff49-7eca3eec90a9",
        "colab": {
          "base_uri": "https://localhost:8080/",
          "height": 235
        }
      },
      "source": [
        "sample_model.summary()"
      ],
      "execution_count": 0,
      "outputs": [
        {
          "output_type": "stream",
          "text": [
            "Model: \"sequential_2\"\n",
            "_________________________________________________________________\n",
            "Layer (type)                 Output Shape              Param #   \n",
            "=================================================================\n",
            "dense_4 (Dense)              (None, 3)                 9         \n",
            "_________________________________________________________________\n",
            "dense_5 (Dense)              (None, 1)                 4         \n",
            "=================================================================\n",
            "Total params: 13\n",
            "Trainable params: 13\n",
            "Non-trainable params: 0\n",
            "_________________________________________________________________\n"
          ],
          "name": "stdout"
        }
      ]
    },
    {
      "cell_type": "code",
      "metadata": {
        "id": "Pu9SVGL8mNdw",
        "colab_type": "code",
        "outputId": "da99a90c-8143-4764-d048-ff3ee32804dd",
        "colab": {
          "base_uri": "https://localhost:8080/",
          "height": 1000
        }
      },
      "source": [
        "sample_model.fit(X, y, epochs=100, verbose=2)"
      ],
      "execution_count": 0,
      "outputs": [
        {
          "output_type": "stream",
          "text": [
            "Train on 3 samples\n",
            "Epoch 1/100\n",
            "3/3 - 0s - loss: 83.2173 - mean_absolute_error: 83.2173\n",
            "Epoch 2/100\n",
            "3/3 - 0s - loss: 83.2132 - mean_absolute_error: 83.2132\n",
            "Epoch 3/100\n",
            "3/3 - 0s - loss: 83.2090 - mean_absolute_error: 83.2090\n",
            "Epoch 4/100\n",
            "3/3 - 0s - loss: 83.2048 - mean_absolute_error: 83.2048\n",
            "Epoch 5/100\n",
            "3/3 - 0s - loss: 83.2004 - mean_absolute_error: 83.2004\n",
            "Epoch 6/100\n",
            "3/3 - 0s - loss: 83.1960 - mean_absolute_error: 83.1960\n",
            "Epoch 7/100\n",
            "3/3 - 0s - loss: 83.1916 - mean_absolute_error: 83.1916\n",
            "Epoch 8/100\n",
            "3/3 - 0s - loss: 83.1870 - mean_absolute_error: 83.1870\n",
            "Epoch 9/100\n",
            "3/3 - 0s - loss: 83.1824 - mean_absolute_error: 83.1824\n",
            "Epoch 10/100\n",
            "3/3 - 0s - loss: 83.1777 - mean_absolute_error: 83.1777\n",
            "Epoch 11/100\n",
            "3/3 - 0s - loss: 83.1729 - mean_absolute_error: 83.1729\n",
            "Epoch 12/100\n",
            "3/3 - 0s - loss: 83.1680 - mean_absolute_error: 83.1680\n",
            "Epoch 13/100\n",
            "3/3 - 0s - loss: 83.1630 - mean_absolute_error: 83.1630\n",
            "Epoch 14/100\n",
            "3/3 - 0s - loss: 83.1580 - mean_absolute_error: 83.1580\n",
            "Epoch 15/100\n",
            "3/3 - 0s - loss: 83.1529 - mean_absolute_error: 83.1529\n",
            "Epoch 16/100\n",
            "3/3 - 0s - loss: 83.1477 - mean_absolute_error: 83.1477\n",
            "Epoch 17/100\n",
            "3/3 - 0s - loss: 83.1424 - mean_absolute_error: 83.1424\n",
            "Epoch 18/100\n",
            "3/3 - 0s - loss: 83.1371 - mean_absolute_error: 83.1371\n",
            "Epoch 19/100\n",
            "3/3 - 0s - loss: 83.1316 - mean_absolute_error: 83.1316\n",
            "Epoch 20/100\n",
            "3/3 - 0s - loss: 83.1261 - mean_absolute_error: 83.1261\n",
            "Epoch 21/100\n",
            "3/3 - 0s - loss: 83.1205 - mean_absolute_error: 83.1205\n",
            "Epoch 22/100\n",
            "3/3 - 0s - loss: 83.1148 - mean_absolute_error: 83.1148\n",
            "Epoch 23/100\n",
            "3/3 - 0s - loss: 83.1090 - mean_absolute_error: 83.1090\n",
            "Epoch 24/100\n",
            "3/3 - 0s - loss: 83.1032 - mean_absolute_error: 83.1032\n",
            "Epoch 25/100\n",
            "3/3 - 0s - loss: 83.0972 - mean_absolute_error: 83.0972\n",
            "Epoch 26/100\n",
            "3/3 - 0s - loss: 83.0912 - mean_absolute_error: 83.0912\n",
            "Epoch 27/100\n",
            "3/3 - 0s - loss: 83.0850 - mean_absolute_error: 83.0850\n",
            "Epoch 28/100\n",
            "3/3 - 0s - loss: 83.0788 - mean_absolute_error: 83.0788\n",
            "Epoch 29/100\n",
            "3/3 - 0s - loss: 83.0725 - mean_absolute_error: 83.0725\n",
            "Epoch 30/100\n",
            "3/3 - 0s - loss: 83.0661 - mean_absolute_error: 83.0661\n",
            "Epoch 31/100\n",
            "3/3 - 0s - loss: 83.0596 - mean_absolute_error: 83.0596\n",
            "Epoch 32/100\n",
            "3/3 - 0s - loss: 83.0530 - mean_absolute_error: 83.0530\n",
            "Epoch 33/100\n",
            "3/3 - 0s - loss: 83.0464 - mean_absolute_error: 83.0464\n",
            "Epoch 34/100\n",
            "3/3 - 0s - loss: 83.0396 - mean_absolute_error: 83.0396\n",
            "Epoch 35/100\n",
            "3/3 - 0s - loss: 83.0328 - mean_absolute_error: 83.0328\n",
            "Epoch 36/100\n",
            "3/3 - 0s - loss: 83.0258 - mean_absolute_error: 83.0258\n",
            "Epoch 37/100\n",
            "3/3 - 0s - loss: 83.0188 - mean_absolute_error: 83.0188\n",
            "Epoch 38/100\n",
            "3/3 - 0s - loss: 83.0117 - mean_absolute_error: 83.0117\n",
            "Epoch 39/100\n",
            "3/3 - 0s - loss: 83.0045 - mean_absolute_error: 83.0045\n",
            "Epoch 40/100\n",
            "3/3 - 0s - loss: 82.9971 - mean_absolute_error: 82.9971\n",
            "Epoch 41/100\n",
            "3/3 - 0s - loss: 82.9897 - mean_absolute_error: 82.9897\n",
            "Epoch 42/100\n",
            "3/3 - 0s - loss: 82.9822 - mean_absolute_error: 82.9822\n",
            "Epoch 43/100\n",
            "3/3 - 0s - loss: 82.9747 - mean_absolute_error: 82.9747\n",
            "Epoch 44/100\n",
            "3/3 - 0s - loss: 82.9670 - mean_absolute_error: 82.9670\n",
            "Epoch 45/100\n",
            "3/3 - 0s - loss: 82.9592 - mean_absolute_error: 82.9592\n",
            "Epoch 46/100\n",
            "3/3 - 0s - loss: 82.9513 - mean_absolute_error: 82.9513\n",
            "Epoch 47/100\n",
            "3/3 - 0s - loss: 82.9433 - mean_absolute_error: 82.9433\n",
            "Epoch 48/100\n",
            "3/3 - 0s - loss: 82.9353 - mean_absolute_error: 82.9353\n",
            "Epoch 49/100\n",
            "3/3 - 0s - loss: 82.9271 - mean_absolute_error: 82.9271\n",
            "Epoch 50/100\n",
            "3/3 - 0s - loss: 82.9188 - mean_absolute_error: 82.9188\n",
            "Epoch 51/100\n",
            "3/3 - 0s - loss: 82.9105 - mean_absolute_error: 82.9105\n",
            "Epoch 52/100\n",
            "3/3 - 0s - loss: 82.9020 - mean_absolute_error: 82.9020\n",
            "Epoch 53/100\n",
            "3/3 - 0s - loss: 82.8935 - mean_absolute_error: 82.8935\n",
            "Epoch 54/100\n",
            "3/3 - 0s - loss: 82.8848 - mean_absolute_error: 82.8848\n",
            "Epoch 55/100\n",
            "3/3 - 0s - loss: 82.8761 - mean_absolute_error: 82.8761\n",
            "Epoch 56/100\n",
            "3/3 - 0s - loss: 82.8672 - mean_absolute_error: 82.8672\n",
            "Epoch 57/100\n",
            "3/3 - 0s - loss: 82.8583 - mean_absolute_error: 82.8583\n",
            "Epoch 58/100\n",
            "3/3 - 0s - loss: 82.8492 - mean_absolute_error: 82.8492\n",
            "Epoch 59/100\n",
            "3/3 - 0s - loss: 82.8401 - mean_absolute_error: 82.8401\n",
            "Epoch 60/100\n",
            "3/3 - 0s - loss: 82.8309 - mean_absolute_error: 82.8309\n",
            "Epoch 61/100\n",
            "3/3 - 0s - loss: 82.8215 - mean_absolute_error: 82.8215\n",
            "Epoch 62/100\n",
            "3/3 - 0s - loss: 82.8121 - mean_absolute_error: 82.8121\n",
            "Epoch 63/100\n",
            "3/3 - 0s - loss: 82.8025 - mean_absolute_error: 82.8025\n",
            "Epoch 64/100\n",
            "3/3 - 0s - loss: 82.7929 - mean_absolute_error: 82.7929\n",
            "Epoch 65/100\n",
            "3/3 - 0s - loss: 82.7832 - mean_absolute_error: 82.7832\n",
            "Epoch 66/100\n",
            "3/3 - 0s - loss: 82.7733 - mean_absolute_error: 82.7733\n",
            "Epoch 67/100\n",
            "3/3 - 0s - loss: 82.7634 - mean_absolute_error: 82.7634\n",
            "Epoch 68/100\n",
            "3/3 - 0s - loss: 82.7533 - mean_absolute_error: 82.7533\n",
            "Epoch 69/100\n",
            "3/3 - 0s - loss: 82.7432 - mean_absolute_error: 82.7432\n",
            "Epoch 70/100\n",
            "3/3 - 0s - loss: 82.7330 - mean_absolute_error: 82.7330\n",
            "Epoch 71/100\n",
            "3/3 - 0s - loss: 82.7226 - mean_absolute_error: 82.7226\n",
            "Epoch 72/100\n",
            "3/3 - 0s - loss: 82.7122 - mean_absolute_error: 82.7122\n",
            "Epoch 73/100\n",
            "3/3 - 0s - loss: 82.7016 - mean_absolute_error: 82.7016\n",
            "Epoch 74/100\n",
            "3/3 - 0s - loss: 82.6910 - mean_absolute_error: 82.6910\n",
            "Epoch 75/100\n",
            "3/3 - 0s - loss: 82.6802 - mean_absolute_error: 82.6802\n",
            "Epoch 76/100\n",
            "3/3 - 0s - loss: 82.6694 - mean_absolute_error: 82.6694\n",
            "Epoch 77/100\n",
            "3/3 - 0s - loss: 82.6584 - mean_absolute_error: 82.6584\n",
            "Epoch 78/100\n",
            "3/3 - 0s - loss: 82.6474 - mean_absolute_error: 82.6474\n",
            "Epoch 79/100\n",
            "3/3 - 0s - loss: 82.6362 - mean_absolute_error: 82.6362\n",
            "Epoch 80/100\n",
            "3/3 - 0s - loss: 82.6250 - mean_absolute_error: 82.6250\n",
            "Epoch 81/100\n",
            "3/3 - 0s - loss: 82.6136 - mean_absolute_error: 82.6136\n",
            "Epoch 82/100\n",
            "3/3 - 0s - loss: 82.6021 - mean_absolute_error: 82.6021\n",
            "Epoch 83/100\n",
            "3/3 - 0s - loss: 82.5906 - mean_absolute_error: 82.5906\n",
            "Epoch 84/100\n",
            "3/3 - 0s - loss: 82.5789 - mean_absolute_error: 82.5789\n",
            "Epoch 85/100\n",
            "3/3 - 0s - loss: 82.5671 - mean_absolute_error: 82.5671\n",
            "Epoch 86/100\n",
            "3/3 - 0s - loss: 82.5553 - mean_absolute_error: 82.5553\n",
            "Epoch 87/100\n",
            "3/3 - 0s - loss: 82.5433 - mean_absolute_error: 82.5433\n",
            "Epoch 88/100\n",
            "3/3 - 0s - loss: 82.5312 - mean_absolute_error: 82.5312\n",
            "Epoch 89/100\n",
            "3/3 - 0s - loss: 82.5190 - mean_absolute_error: 82.5190\n",
            "Epoch 90/100\n",
            "3/3 - 0s - loss: 82.5067 - mean_absolute_error: 82.5067\n",
            "Epoch 91/100\n",
            "3/3 - 0s - loss: 82.4943 - mean_absolute_error: 82.4943\n",
            "Epoch 92/100\n",
            "3/3 - 0s - loss: 82.4818 - mean_absolute_error: 82.4818\n",
            "Epoch 93/100\n",
            "3/3 - 0s - loss: 82.4692 - mean_absolute_error: 82.4692\n",
            "Epoch 94/100\n",
            "3/3 - 0s - loss: 82.4565 - mean_absolute_error: 82.4565\n",
            "Epoch 95/100\n",
            "3/3 - 0s - loss: 82.4437 - mean_absolute_error: 82.4437\n",
            "Epoch 96/100\n",
            "3/3 - 0s - loss: 82.4308 - mean_absolute_error: 82.4308\n",
            "Epoch 97/100\n",
            "3/3 - 0s - loss: 82.4178 - mean_absolute_error: 82.4178\n",
            "Epoch 98/100\n",
            "3/3 - 0s - loss: 82.4047 - mean_absolute_error: 82.4047\n",
            "Epoch 99/100\n",
            "3/3 - 0s - loss: 82.3915 - mean_absolute_error: 82.3915\n",
            "Epoch 100/100\n",
            "3/3 - 0s - loss: 82.3781 - mean_absolute_error: 82.3781\n"
          ],
          "name": "stdout"
        },
        {
          "output_type": "execute_result",
          "data": {
            "text/plain": [
              "<tensorflow.python.keras.callbacks.History at 0x7f20774e95f8>"
            ]
          },
          "metadata": {
            "tags": []
          },
          "execution_count": 23
        }
      ]
    },
    {
      "cell_type": "code",
      "metadata": {
        "id": "k5F_CEKom_T7",
        "colab_type": "code",
        "colab": {}
      },
      "source": [
        ""
      ],
      "execution_count": 0,
      "outputs": []
    }
  ]
}